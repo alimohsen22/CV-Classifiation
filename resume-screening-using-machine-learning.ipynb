{
 "cells": [
  {
   "cell_type": "code",
   "execution_count": 2,
   "metadata": {
    "execution": {
     "iopub.execute_input": "2021-12-05T18:29:39.472497Z",
     "iopub.status.busy": "2021-12-05T18:29:39.471804Z",
     "iopub.status.idle": "2021-12-05T18:29:40.758360Z",
     "shell.execute_reply": "2021-12-05T18:29:40.757624Z",
     "shell.execute_reply.started": "2021-12-05T18:27:39.427114Z"
    },
    "papermill": {
     "duration": 1.309482,
     "end_time": "2021-12-05T18:29:40.758566",
     "exception": false,
     "start_time": "2021-12-05T18:29:39.449084",
     "status": "completed"
    },
    "tags": []
   },
   "outputs": [
    {
     "data": {
      "text/html": [
       "<div>\n",
       "<style scoped>\n",
       "    .dataframe tbody tr th:only-of-type {\n",
       "        vertical-align: middle;\n",
       "    }\n",
       "\n",
       "    .dataframe tbody tr th {\n",
       "        vertical-align: top;\n",
       "    }\n",
       "\n",
       "    .dataframe thead th {\n",
       "        text-align: right;\n",
       "    }\n",
       "</style>\n",
       "<table border=\"1\" class=\"dataframe\">\n",
       "  <thead>\n",
       "    <tr style=\"text-align: right;\">\n",
       "      <th></th>\n",
       "      <th>Category</th>\n",
       "      <th>Resume</th>\n",
       "      <th>cleaned_resume</th>\n",
       "    </tr>\n",
       "  </thead>\n",
       "  <tbody>\n",
       "    <tr>\n",
       "      <td>0</td>\n",
       "      <td>Data Science</td>\n",
       "      <td>Skills * Programming Languages: Python (pandas...</td>\n",
       "      <td></td>\n",
       "    </tr>\n",
       "    <tr>\n",
       "      <td>1</td>\n",
       "      <td>Data Science</td>\n",
       "      <td>Education Details \\r\\nMay 2013 to May 2017 B.E...</td>\n",
       "      <td></td>\n",
       "    </tr>\n",
       "    <tr>\n",
       "      <td>2</td>\n",
       "      <td>Data Science</td>\n",
       "      <td>Areas of Interest Deep Learning, Control Syste...</td>\n",
       "      <td></td>\n",
       "    </tr>\n",
       "    <tr>\n",
       "      <td>3</td>\n",
       "      <td>Data Science</td>\n",
       "      <td>Skills â¢ R â¢ Python â¢ SAP HANA â¢ Table...</td>\n",
       "      <td></td>\n",
       "    </tr>\n",
       "    <tr>\n",
       "      <td>4</td>\n",
       "      <td>Data Science</td>\n",
       "      <td>Education Details \\r\\n MCA   YMCAUST,  Faridab...</td>\n",
       "      <td></td>\n",
       "    </tr>\n",
       "  </tbody>\n",
       "</table>\n",
       "</div>"
      ],
      "text/plain": [
       "       Category                                             Resume  \\\n",
       "0  Data Science  Skills * Programming Languages: Python (pandas...   \n",
       "1  Data Science  Education Details \\r\\nMay 2013 to May 2017 B.E...   \n",
       "2  Data Science  Areas of Interest Deep Learning, Control Syste...   \n",
       "3  Data Science  Skills â¢ R â¢ Python â¢ SAP HANA â¢ Table...   \n",
       "4  Data Science  Education Details \\r\\n MCA   YMCAUST,  Faridab...   \n",
       "\n",
       "  cleaned_resume  \n",
       "0                 \n",
       "1                 \n",
       "2                 \n",
       "3                 \n",
       "4                 "
      ]
     },
     "execution_count": 2,
     "metadata": {},
     "output_type": "execute_result"
    }
   ],
   "source": [
    "import numpy as np\n",
    "import pandas as pd\n",
    "import matplotlib.pyplot as plt\n",
    "import warnings\n",
    "warnings.filterwarnings('ignore')\n",
    "from sklearn.naive_bayes import MultinomialNB\n",
    "from sklearn.multiclass import OneVsRestClassifier\n",
    "from sklearn import metrics\n",
    "from sklearn.metrics import accuracy_score\n",
    "from pandas.plotting import scatter_matrix\n",
    "from sklearn.neighbors import KNeighborsClassifier\n",
    "from sklearn import metrics\n",
    "\n",
    "resumeDataSet = pd.read_csv('UpdatedResumeDataSet.csv' ,encoding='utf-8')\n",
    "resumeDataSet['cleaned_resume'] = ''\n",
    "resumeDataSet.head()"
   ]
  },
  {
   "cell_type": "code",
   "execution_count": 3,
   "metadata": {
    "execution": {
     "iopub.execute_input": "2021-12-05T18:29:40.808454Z",
     "iopub.status.busy": "2021-12-05T18:29:40.807694Z",
     "iopub.status.idle": "2021-12-05T18:29:40.811690Z",
     "shell.execute_reply": "2021-12-05T18:29:40.811070Z",
     "shell.execute_reply.started": "2021-12-05T18:27:40.837004Z"
    },
    "papermill": {
     "duration": 0.036945,
     "end_time": "2021-12-05T18:29:40.811834",
     "exception": false,
     "start_time": "2021-12-05T18:29:40.774889",
     "status": "completed"
    },
    "tags": []
   },
   "outputs": [
    {
     "name": "stdout",
     "output_type": "stream",
     "text": [
      "<class 'pandas.core.frame.DataFrame'>\n",
      "RangeIndex: 962 entries, 0 to 961\n",
      "Data columns (total 3 columns):\n",
      "Category          962 non-null object\n",
      "Resume            962 non-null object\n",
      "cleaned_resume    962 non-null object\n",
      "dtypes: object(3)\n",
      "memory usage: 22.7+ KB\n"
     ]
    }
   ],
   "source": [
    "resumeDataSet.info()"
   ]
  },
  {
   "cell_type": "code",
   "execution_count": 4,
   "metadata": {
    "execution": {
     "iopub.execute_input": "2021-12-05T18:29:40.850036Z",
     "iopub.status.busy": "2021-12-05T18:29:40.849345Z",
     "iopub.status.idle": "2021-12-05T18:29:40.853203Z",
     "shell.execute_reply": "2021-12-05T18:29:40.852744Z",
     "shell.execute_reply.started": "2021-12-05T18:27:40.863570Z"
    },
    "papermill": {
     "duration": 0.025247,
     "end_time": "2021-12-05T18:29:40.853388",
     "exception": false,
     "start_time": "2021-12-05T18:29:40.828141",
     "status": "completed"
    },
    "tags": []
   },
   "outputs": [
    {
     "name": "stdout",
     "output_type": "stream",
     "text": [
      "Displaying the distinct categories of resume:\n",
      "\n",
      " \n",
      "['Data Science' 'HR' 'Advocate' 'Arts' 'Web Designing'\n",
      " 'Mechanical Engineer' 'Sales' 'Health and fitness' 'Civil Engineer'\n",
      " 'Java Developer' 'Business Analyst' 'SAP Developer' 'Automation Testing'\n",
      " 'Electrical Engineering' 'Operations Manager' 'Python Developer'\n",
      " 'DevOps Engineer' 'Network Security Engineer' 'PMO' 'Database' 'Hadoop'\n",
      " 'ETL Developer' 'DotNet Developer' 'Blockchain' 'Testing']\n"
     ]
    }
   ],
   "source": [
    "print (\"Displaying the distinct categories of resume:\\n\\n \")\n",
    "print (resumeDataSet['Category'].unique())"
   ]
  },
  {
   "cell_type": "code",
   "execution_count": 5,
   "metadata": {
    "execution": {
     "iopub.execute_input": "2021-12-05T18:29:40.894521Z",
     "iopub.status.busy": "2021-12-05T18:29:40.893911Z",
     "iopub.status.idle": "2021-12-05T18:29:40.897645Z",
     "shell.execute_reply": "2021-12-05T18:29:40.897170Z",
     "shell.execute_reply.started": "2021-12-05T18:27:40.880189Z"
    },
    "papermill": {
     "duration": 0.027554,
     "end_time": "2021-12-05T18:29:40.897824",
     "exception": false,
     "start_time": "2021-12-05T18:29:40.870270",
     "status": "completed"
    },
    "tags": []
   },
   "outputs": [
    {
     "name": "stdout",
     "output_type": "stream",
     "text": [
      "Displaying the distinct categories of resume and the number of records belonging to each category:\n",
      "\n",
      "\n",
      "Java Developer               84\n",
      "Testing                      70\n",
      "DevOps Engineer              55\n",
      "Python Developer             48\n",
      "Web Designing                45\n",
      "HR                           44\n",
      "Hadoop                       42\n",
      "Data Science                 40\n",
      "Operations Manager           40\n",
      "Sales                        40\n",
      "Blockchain                   40\n",
      "Mechanical Engineer          40\n",
      "ETL Developer                40\n",
      "Arts                         36\n",
      "Database                     33\n",
      "PMO                          30\n",
      "Health and fitness           30\n",
      "Electrical Engineering       30\n",
      "Business Analyst             28\n",
      "DotNet Developer             28\n",
      "Automation Testing           26\n",
      "Network Security Engineer    25\n",
      "SAP Developer                24\n",
      "Civil Engineer               24\n",
      "Advocate                     20\n",
      "Name: Category, dtype: int64\n"
     ]
    }
   ],
   "source": [
    "print (\"Displaying the distinct categories of resume and the number of records belonging to each category:\\n\\n\")\n",
    "print (resumeDataSet['Category'].value_counts())"
   ]
  },
  {
   "cell_type": "code",
   "execution_count": 6,
   "metadata": {
    "execution": {
     "iopub.execute_input": "2021-12-05T18:29:40.938819Z",
     "iopub.status.busy": "2021-12-05T18:29:40.938047Z",
     "iopub.status.idle": "2021-12-05T18:29:41.606888Z",
     "shell.execute_reply": "2021-12-05T18:29:41.605861Z",
     "shell.execute_reply.started": "2021-12-05T18:27:40.905295Z"
    },
    "papermill": {
     "duration": 0.691765,
     "end_time": "2021-12-05T18:29:41.607052",
     "exception": false,
     "start_time": "2021-12-05T18:29:40.915287",
     "status": "completed"
    },
    "tags": []
   },
   "outputs": [
    {
     "data": {
      "image/png": "[encoded data removed]",
      "text/plain": [
       "<Figure size 1440x360 with 1 Axes>"
      ]
     },
     "metadata": {
      "needs_background": "light"
     },
     "output_type": "display_data"
    }
   ],
   "source": [
    "import seaborn as sns\n",
    "plt.figure(figsize=(20,5))\n",
    "plt.xticks(rotation=90)\n",
    "ax=sns.countplot(x=\"Category\", data=resumeDataSet)\n",
    "for p in ax.patches:\n",
    "    ax.annotate(str(p.get_height()), (p.get_x() * 1.01 , p.get_height() * 1.01))\n",
    "plt.grid()"
   ]
  },
  {
   "cell_type": "code",
   "execution_count": 7,
   "metadata": {
    "execution": {
     "iopub.execute_input": "2021-12-05T18:29:42.375070Z",
     "iopub.status.busy": "2021-12-05T18:29:42.374089Z",
     "iopub.status.idle": "2021-12-05T18:29:42.867774Z",
     "shell.execute_reply": "2021-12-05T18:29:42.867142Z",
     "shell.execute_reply.started": "2021-12-05T18:27:42.277716Z"
    },
    "papermill": {
     "duration": 0.531549,
     "end_time": "2021-12-05T18:29:42.867925",
     "exception": false,
     "start_time": "2021-12-05T18:29:42.336376",
     "status": "completed"
    },
    "tags": []
   },
   "outputs": [],
   "source": [
    "import re\n",
    "def cleanResume(resumeText):\n",
    "    resumeText = re.sub('http\\S+\\s*', ' ', resumeText)  # remove URLs\n",
    "    resumeText = re.sub('RT|cc', ' ', resumeText)  # remove RT and cc\n",
    "    resumeText = re.sub('#\\S+', '', resumeText)  # remove hashtags\n",
    "    resumeText = re.sub('@\\S+', '  ', resumeText)  # remove mentions\n",
    "    resumeText = re.sub('[%s]' % re.escape(\"\"\"!\"#$%&'()*+,-./:;<=>?@[\\]^_`{|}~\"\"\"), ' ', resumeText)  # remove punctuations\n",
    "    resumeText = re.sub(r'[^\\x00-\\x7f]',r' ', resumeText) \n",
    "    resumeText = re.sub('\\s+', ' ', resumeText)  # remove extra whitespace\n",
    "    return resumeText\n",
    "    \n",
    "resumeDataSet['cleaned_resume'] = resumeDataSet.Resume.apply(lambda x: cleanResume(x))"
   ]
  },
  {
   "cell_type": "code",
   "execution_count": 8,
   "metadata": {
    "execution": {
     "iopub.execute_input": "2021-12-05T18:29:42.923278Z",
     "iopub.status.busy": "2021-12-05T18:29:42.922531Z",
     "iopub.status.idle": "2021-12-05T18:29:42.926604Z",
     "shell.execute_reply": "2021-12-05T18:29:42.925946Z",
     "shell.execute_reply.started": "2021-12-05T18:27:42.791105Z"
    },
    "papermill": {
     "duration": 0.03635,
     "end_time": "2021-12-05T18:29:42.926749",
     "exception": false,
     "start_time": "2021-12-05T18:29:42.890399",
     "status": "completed"
    },
    "tags": []
   },
   "outputs": [
    {
     "data": {
      "text/html": [
       "<div>\n",
       "<style scoped>\n",
       "    .dataframe tbody tr th:only-of-type {\n",
       "        vertical-align: middle;\n",
       "    }\n",
       "\n",
       "    .dataframe tbody tr th {\n",
       "        vertical-align: top;\n",
       "    }\n",
       "\n",
       "    .dataframe thead th {\n",
       "        text-align: right;\n",
       "    }\n",
       "</style>\n",
       "<table border=\"1\" class=\"dataframe\">\n",
       "  <thead>\n",
       "    <tr style=\"text-align: right;\">\n",
       "      <th></th>\n",
       "      <th>Category</th>\n",
       "      <th>Resume</th>\n",
       "      <th>cleaned_resume</th>\n",
       "    </tr>\n",
       "  </thead>\n",
       "  <tbody>\n",
       "    <tr>\n",
       "      <td>0</td>\n",
       "      <td>Data Science</td>\n",
       "      <td>Skills * Programming Languages: Python (pandas...</td>\n",
       "      <td>Skills Programming Languages Python pandas num...</td>\n",
       "    </tr>\n",
       "    <tr>\n",
       "      <td>1</td>\n",
       "      <td>Data Science</td>\n",
       "      <td>Education Details \\r\\nMay 2013 to May 2017 B.E...</td>\n",
       "      <td>Education Details May 2013 to May 2017 B E UIT...</td>\n",
       "    </tr>\n",
       "    <tr>\n",
       "      <td>2</td>\n",
       "      <td>Data Science</td>\n",
       "      <td>Areas of Interest Deep Learning, Control Syste...</td>\n",
       "      <td>Areas of Interest Deep Learning Control System...</td>\n",
       "    </tr>\n",
       "    <tr>\n",
       "      <td>3</td>\n",
       "      <td>Data Science</td>\n",
       "      <td>Skills â¢ R â¢ Python â¢ SAP HANA â¢ Table...</td>\n",
       "      <td>Skills R Python SAP HANA Tableau SAP HANA SQL ...</td>\n",
       "    </tr>\n",
       "    <tr>\n",
       "      <td>4</td>\n",
       "      <td>Data Science</td>\n",
       "      <td>Education Details \\r\\n MCA   YMCAUST,  Faridab...</td>\n",
       "      <td>Education Details MCA YMCAUST Faridabad Haryan...</td>\n",
       "    </tr>\n",
       "  </tbody>\n",
       "</table>\n",
       "</div>"
      ],
      "text/plain": [
       "       Category                                             Resume  \\\n",
       "0  Data Science  Skills * Programming Languages: Python (pandas...   \n",
       "1  Data Science  Education Details \\r\\nMay 2013 to May 2017 B.E...   \n",
       "2  Data Science  Areas of Interest Deep Learning, Control Syste...   \n",
       "3  Data Science  Skills â¢ R â¢ Python â¢ SAP HANA â¢ Table...   \n",
       "4  Data Science  Education Details \\r\\n MCA   YMCAUST,  Faridab...   \n",
       "\n",
       "                                      cleaned_resume  \n",
       "0  Skills Programming Languages Python pandas num...  \n",
       "1  Education Details May 2013 to May 2017 B E UIT...  \n",
       "2  Areas of Interest Deep Learning Control System...  \n",
       "3  Skills R Python SAP HANA Tableau SAP HANA SQL ...  \n",
       "4  Education Details MCA YMCAUST Faridabad Haryan...  "
      ]
     },
     "execution_count": 8,
     "metadata": {},
     "output_type": "execute_result"
    }
   ],
   "source": [
    "resumeDataSet.head()"
   ]
  },
  {
   "cell_type": "code",
   "execution_count": 9,
   "metadata": {
    "execution": {
     "iopub.execute_input": "2021-12-05T18:29:42.977900Z",
     "iopub.status.busy": "2021-12-05T18:29:42.976864Z",
     "iopub.status.idle": "2021-12-05T18:29:42.979536Z",
     "shell.execute_reply": "2021-12-05T18:29:42.980140Z",
     "shell.execute_reply.started": "2021-12-05T18:27:42.805781Z"
    },
    "papermill": {
     "duration": 0.031063,
     "end_time": "2021-12-05T18:29:42.980311",
     "exception": false,
     "start_time": "2021-12-05T18:29:42.949248",
     "status": "completed"
    },
    "tags": []
   },
   "outputs": [],
   "source": [
    "resumeDataSet_d=resumeDataSet.copy()"
   ]
  },
  {
   "cell_type": "code",
   "execution_count": null,
   "metadata": {},
   "outputs": [],
   "source": [
    "from nltk.stem.porter import PorterStemmer\n",
    "from nltk.tokenize import word_tokenize\n",
    "\n",
    "\n",
    "for i in resumeDataSet['Resume'].values:\n",
    "    tokenized_sents = word_tokenize(i) \n",
    "    stemmer=PorterStemmer()\n",
    "    stem_words=stemmer.stem(tokenized_sents)\n",
    "\n",
    "word_vectorizer = TfidfVectorizer( sublinear_tf=True,stop_words='english')\n",
    "word_vectorizer.fit(stem_words)\n",
    "WordFeatures = word_vectorizer.transform(stem_words)\n",
    "\n"
   ]
  },
  {
   "cell_type": "code",
   "execution_count": null,
   "metadata": {},
   "outputs": [],
   "source": []
  },
  {
   "cell_type": "code",
   "execution_count": 10,
   "metadata": {
    "execution": {
     "iopub.execute_input": "2021-12-05T18:29:43.029601Z",
     "iopub.status.busy": "2021-12-05T18:29:43.028625Z",
     "iopub.status.idle": "2021-12-05T18:29:48.613399Z",
     "shell.execute_reply": "2021-12-05T18:29:48.612881Z",
     "shell.execute_reply.started": "2021-12-05T18:27:42.821018Z"
    },
    "papermill": {
     "duration": 5.61059,
     "end_time": "2021-12-05T18:29:48.613557",
     "exception": false,
     "start_time": "2021-12-05T18:29:43.002967",
     "status": "completed"
    },
    "tags": []
   },
   "outputs": [],
   "source": [
    "import nltk\n",
    "from nltk.corpus import stopwords\n",
    "import string\n",
    "from wordcloud import WordCloud\n",
    "\n",
    "\n",
    "\n"
   ]
  },
  {
   "cell_type": "code",
   "execution_count": 11,
   "metadata": {},
   "outputs": [
    {
     "name": "stdout",
     "output_type": "stream",
     "text": [
      "[('Exprience', 3829), ('months', 3233), ('company', 3130), ('Details', 2967), ('description', 2634), ('1', 2134), ('Project', 1808), ('project', 1579), ('6', 1499), ('data', 1438), ('team', 1424), ('Maharashtra', 1385), ('year', 1244), ('Less', 1137), ('January', 1086), ('using', 1041), ('Skill', 1018), ('Pune', 1016), ('Management', 1010), ('SQL', 990), ('Ltd', 934), ('management', 927), ('C', 896), ('Engineering', 855), ('Education', 833), ('Developer', 806), ('Java', 773), ('2', 754), ('development', 752), ('monthsCompany', 746), ('Pvt', 730), ('application', 727), ('System', 715), ('reports', 697), ('business', 696), ('India', 693), ('requirements', 693), ('I', 690), ('various', 688), ('A', 688), ('Data', 674), ('The', 672), ('University', 656), ('process', 648), ('Testing', 646), ('test', 638), ('Responsibilities', 637), ('system', 636), ('testing', 634), ('Software', 632)]\n"
     ]
    }
   ],
   "source": [
    "oneSetOfStopWords = set(stopwords.words('english')+['``',\"''\"])\n",
    "totalWords =[]\n",
    "Sentences = resumeDataSet['Resume'].values\n",
    "cleanedSentences = \"\"\n",
    "for records in Sentences:\n",
    "    cleanedText = cleanResume(records)\n",
    "    cleanedSentences += cleanedText\n",
    "    requiredWords = nltk.word_tokenize(cleanedText)\n",
    "    for word in requiredWords:\n",
    "        if word not in oneSetOfStopWords and word not in string.punctuation:\n",
    "            totalWords.append(word)\n",
    "    \n",
    "wordfreqdist = nltk.FreqDist(totalWords)\n",
    "mostcommon = wordfreqdist.most_common(50)\n",
    "print(mostcommon)"
   ]
  },
  {
   "cell_type": "code",
   "execution_count": 12,
   "metadata": {
    "execution": {
     "iopub.execute_input": "2021-12-05T18:29:50.578796Z",
     "iopub.status.busy": "2021-12-05T18:29:50.578152Z",
     "iopub.status.idle": "2021-12-05T18:29:50.583768Z",
     "shell.execute_reply": "2021-12-05T18:29:50.584315Z",
     "shell.execute_reply.started": "2021-12-05T18:27:50.495057Z"
    },
    "papermill": {
     "duration": 0.036843,
     "end_time": "2021-12-05T18:29:50.584491",
     "exception": false,
     "start_time": "2021-12-05T18:29:50.547648",
     "status": "completed"
    },
    "tags": []
   },
   "outputs": [],
   "source": [
    "from sklearn.preprocessing import LabelEncoder\n",
    "\n",
    "var_mod = ['Category']\n",
    "le = LabelEncoder()\n",
    "for i in var_mod:\n",
    "    resumeDataSet[i] = le.fit_transform(resumeDataSet[i])\n"
   ]
  },
  {
   "cell_type": "code",
   "execution_count": 22,
   "metadata": {},
   "outputs": [],
   "source": [
    "pickle.dump(le, open(\"label_encoder.sav\", \"wb\"))"
   ]
  },
  {
   "cell_type": "code",
   "execution_count": 13,
   "metadata": {
    "execution": {
     "iopub.execute_input": "2021-12-05T18:29:50.643316Z",
     "iopub.status.busy": "2021-12-05T18:29:50.642746Z",
     "iopub.status.idle": "2021-12-05T18:29:50.651846Z",
     "shell.execute_reply": "2021-12-05T18:29:50.652266Z",
     "shell.execute_reply.started": "2021-12-05T18:27:50.502984Z"
    },
    "papermill": {
     "duration": 0.040006,
     "end_time": "2021-12-05T18:29:50.652427",
     "exception": false,
     "start_time": "2021-12-05T18:29:50.612421",
     "status": "completed"
    },
    "tags": []
   },
   "outputs": [
    {
     "data": {
      "text/html": [
       "<div>\n",
       "<style scoped>\n",
       "    .dataframe tbody tr th:only-of-type {\n",
       "        vertical-align: middle;\n",
       "    }\n",
       "\n",
       "    .dataframe tbody tr th {\n",
       "        vertical-align: top;\n",
       "    }\n",
       "\n",
       "    .dataframe thead th {\n",
       "        text-align: right;\n",
       "    }\n",
       "</style>\n",
       "<table border=\"1\" class=\"dataframe\">\n",
       "  <thead>\n",
       "    <tr style=\"text-align: right;\">\n",
       "      <th></th>\n",
       "      <th>Category</th>\n",
       "      <th>Resume</th>\n",
       "      <th>cleaned_resume</th>\n",
       "    </tr>\n",
       "  </thead>\n",
       "  <tbody>\n",
       "    <tr>\n",
       "      <td>0</td>\n",
       "      <td>6</td>\n",
       "      <td>Skills * Programming Languages: Python (pandas...</td>\n",
       "      <td>Skills Programming Languages Python pandas num...</td>\n",
       "    </tr>\n",
       "    <tr>\n",
       "      <td>1</td>\n",
       "      <td>6</td>\n",
       "      <td>Education Details \\r\\nMay 2013 to May 2017 B.E...</td>\n",
       "      <td>Education Details May 2013 to May 2017 B E UIT...</td>\n",
       "    </tr>\n",
       "    <tr>\n",
       "      <td>2</td>\n",
       "      <td>6</td>\n",
       "      <td>Areas of Interest Deep Learning, Control Syste...</td>\n",
       "      <td>Areas of Interest Deep Learning Control System...</td>\n",
       "    </tr>\n",
       "    <tr>\n",
       "      <td>3</td>\n",
       "      <td>6</td>\n",
       "      <td>Skills â¢ R â¢ Python â¢ SAP HANA â¢ Table...</td>\n",
       "      <td>Skills R Python SAP HANA Tableau SAP HANA SQL ...</td>\n",
       "    </tr>\n",
       "    <tr>\n",
       "      <td>4</td>\n",
       "      <td>6</td>\n",
       "      <td>Education Details \\r\\n MCA   YMCAUST,  Faridab...</td>\n",
       "      <td>Education Details MCA YMCAUST Faridabad Haryan...</td>\n",
       "    </tr>\n",
       "  </tbody>\n",
       "</table>\n",
       "</div>"
      ],
      "text/plain": [
       "   Category                                             Resume  \\\n",
       "0         6  Skills * Programming Languages: Python (pandas...   \n",
       "1         6  Education Details \\r\\nMay 2013 to May 2017 B.E...   \n",
       "2         6  Areas of Interest Deep Learning, Control Syste...   \n",
       "3         6  Skills â¢ R â¢ Python â¢ SAP HANA â¢ Table...   \n",
       "4         6  Education Details \\r\\n MCA   YMCAUST,  Faridab...   \n",
       "\n",
       "                                      cleaned_resume  \n",
       "0  Skills Programming Languages Python pandas num...  \n",
       "1  Education Details May 2013 to May 2017 B E UIT...  \n",
       "2  Areas of Interest Deep Learning Control System...  \n",
       "3  Skills R Python SAP HANA Tableau SAP HANA SQL ...  \n",
       "4  Education Details MCA YMCAUST Faridabad Haryan...  "
      ]
     },
     "execution_count": 13,
     "metadata": {},
     "output_type": "execute_result"
    }
   ],
   "source": [
    "resumeDataSet.head()"
   ]
  },
  {
   "cell_type": "code",
   "execution_count": 14,
   "metadata": {
    "execution": {
     "iopub.execute_input": "2021-12-05T18:29:50.711739Z",
     "iopub.status.busy": "2021-12-05T18:29:50.711135Z",
     "iopub.status.idle": "2021-12-05T18:29:50.717536Z",
     "shell.execute_reply": "2021-12-05T18:29:50.718042Z",
     "shell.execute_reply.started": "2021-12-05T18:27:50.525053Z"
    },
    "papermill": {
     "duration": 0.037616,
     "end_time": "2021-12-05T18:29:50.718188",
     "exception": false,
     "start_time": "2021-12-05T18:29:50.680572",
     "status": "completed"
    },
    "tags": []
   },
   "outputs": [
    {
     "data": {
      "text/plain": [
       "15    84\n",
       "23    70\n",
       "8     55\n",
       "20    48\n",
       "24    45\n",
       "12    44\n",
       "13    42\n",
       "18    40\n",
       "16    40\n",
       "10    40\n",
       "3     40\n",
       "22    40\n",
       "6     40\n",
       "1     36\n",
       "7     33\n",
       "19    30\n",
       "14    30\n",
       "11    30\n",
       "4     28\n",
       "9     28\n",
       "2     26\n",
       "17    25\n",
       "5     24\n",
       "21    24\n",
       "0     20\n",
       "Name: Category, dtype: int64"
      ]
     },
     "execution_count": 14,
     "metadata": {},
     "output_type": "execute_result"
    }
   ],
   "source": [
    "resumeDataSet.Category.value_counts()"
   ]
  },
  {
   "cell_type": "code",
   "execution_count": 15,
   "metadata": {
    "execution": {
     "iopub.execute_input": "2021-12-05T18:29:50.777740Z",
     "iopub.status.busy": "2021-12-05T18:29:50.777156Z",
     "iopub.status.idle": "2021-12-05T18:29:50.784095Z",
     "shell.execute_reply": "2021-12-05T18:29:50.784584Z",
     "shell.execute_reply.started": "2021-12-05T18:27:50.541030Z"
    },
    "papermill": {
     "duration": 0.038192,
     "end_time": "2021-12-05T18:29:50.784740",
     "exception": false,
     "start_time": "2021-12-05T18:29:50.746548",
     "status": "completed"
    },
    "tags": []
   },
   "outputs": [
    {
     "data": {
      "text/plain": [
       "Java Developer               84\n",
       "Testing                      70\n",
       "DevOps Engineer              55\n",
       "Python Developer             48\n",
       "Web Designing                45\n",
       "HR                           44\n",
       "Hadoop                       42\n",
       "Data Science                 40\n",
       "Operations Manager           40\n",
       "Sales                        40\n",
       "Blockchain                   40\n",
       "Mechanical Engineer          40\n",
       "ETL Developer                40\n",
       "Arts                         36\n",
       "Database                     33\n",
       "PMO                          30\n",
       "Health and fitness           30\n",
       "Electrical Engineering       30\n",
       "Business Analyst             28\n",
       "DotNet Developer             28\n",
       "Automation Testing           26\n",
       "Network Security Engineer    25\n",
       "SAP Developer                24\n",
       "Civil Engineer               24\n",
       "Advocate                     20\n",
       "Name: Category, dtype: int64"
      ]
     },
     "execution_count": 15,
     "metadata": {},
     "output_type": "execute_result"
    }
   ],
   "source": [
    "resumeDataSet_d.Category.value_counts() #understanding decode LabelEncoder"
   ]
  },
  {
   "cell_type": "code",
   "execution_count": 16,
   "metadata": {
    "execution": {
     "iopub.execute_input": "2021-12-05T18:29:50.845703Z",
     "iopub.status.busy": "2021-12-05T18:29:50.845092Z",
     "iopub.status.idle": "2021-12-05T18:29:50.848414Z",
     "shell.execute_reply": "2021-12-05T18:29:50.848918Z",
     "shell.execute_reply.started": "2021-12-05T18:27:50.554135Z"
    },
    "papermill": {
     "duration": 0.035635,
     "end_time": "2021-12-05T18:29:50.849077",
     "exception": false,
     "start_time": "2021-12-05T18:29:50.813442",
     "status": "completed"
    },
    "tags": []
   },
   "outputs": [],
   "source": [
    "del resumeDataSet_d #clearing the space occupied "
   ]
  },
  {
   "cell_type": "code",
   "execution_count": 17,
   "metadata": {
    "execution": {
     "iopub.execute_input": "2021-12-05T18:29:50.910041Z",
     "iopub.status.busy": "2021-12-05T18:29:50.909420Z",
     "iopub.status.idle": "2021-12-05T18:29:51.766365Z",
     "shell.execute_reply": "2021-12-05T18:29:51.765851Z",
     "shell.execute_reply.started": "2021-12-05T18:27:50.566242Z"
    },
    "papermill": {
     "duration": 0.88942,
     "end_time": "2021-12-05T18:29:51.766522",
     "exception": false,
     "start_time": "2021-12-05T18:29:50.877102",
     "status": "completed"
    },
    "tags": []
   },
   "outputs": [
    {
     "name": "stdout",
     "output_type": "stream",
     "text": [
      "Feature completed .....\n",
      "(769, 7351)\n",
      "(193, 7351)\n"
     ]
    }
   ],
   "source": [
    "from sklearn.model_selection import train_test_split\n",
    "from sklearn.feature_extraction.text import TfidfVectorizer\n",
    "from scipy.sparse import hstack\n",
    "\n",
    "requiredText = resumeDataSet['cleaned_resume'].values\n",
    "requiredTarget = resumeDataSet['Category'].values\n",
    "\n",
    "word_vectorizer = TfidfVectorizer( sublinear_tf=True,stop_words='english')\n",
    "word_vectorizer.fit(requiredText)\n",
    "WordFeatures = word_vectorizer.transform(requiredText)\n",
    "\n",
    "print (\"Feature completed .....\")\n",
    "\n",
    "X_train,X_test,y_train,y_test = train_test_split(WordFeatures,requiredTarget,random_state=42, test_size=0.2,\n",
    "                                                 shuffle=True, stratify=requiredTarget)\n",
    "print(X_train.shape)\n",
    "print(X_test.shape)"
   ]
  },
  {
   "cell_type": "code",
   "execution_count": 18,
   "metadata": {
    "execution": {
     "iopub.execute_input": "2021-12-05T18:29:51.831543Z",
     "iopub.status.busy": "2021-12-05T18:29:51.830909Z",
     "iopub.status.idle": "2021-12-05T18:29:54.586515Z",
     "shell.execute_reply": "2021-12-05T18:29:54.585421Z",
     "shell.execute_reply.started": "2021-12-05T18:27:51.447314Z"
    },
    "papermill": {
     "duration": 2.790673,
     "end_time": "2021-12-05T18:29:54.586703",
     "exception": false,
     "start_time": "2021-12-05T18:29:51.796030",
     "status": "completed"
    },
    "tags": []
   },
   "outputs": [
    {
     "name": "stdout",
     "output_type": "stream",
     "text": [
      "Accuracy of KNeighbors Classifier on training set: 0.99\n",
      "Accuracy of KNeighbors Classifier on test set:     0.98\n"
     ]
    }
   ],
   "source": [
    "clf = OneVsRestClassifier(KNeighborsClassifier())\n",
    "clf.fit(X_train, y_train)\n",
    "prediction = clf.predict(X_test)\n",
    "print('Accuracy of KNeighbors Classifier on training set: {:.2f}'.format(clf.score(X_train, y_train)))\n",
    "print('Accuracy of KNeighbors Classifier on test set:     {:.2f}'.format(clf.score(X_test, y_test)))\n",
    "\n"
   ]
  },
  {
   "cell_type": "code",
   "execution_count": 19,
   "metadata": {
    "execution": {
     "iopub.execute_input": "2021-12-05T18:29:54.657920Z",
     "iopub.status.busy": "2021-12-05T18:29:54.657168Z",
     "iopub.status.idle": "2021-12-05T18:29:54.669328Z",
     "shell.execute_reply": "2021-12-05T18:29:54.668599Z",
     "shell.execute_reply.started": "2021-12-05T18:27:54.310109Z"
    },
    "papermill": {
     "duration": 0.05004,
     "end_time": "2021-12-05T18:29:54.669497",
     "exception": false,
     "start_time": "2021-12-05T18:29:54.619457",
     "status": "completed"
    },
    "tags": []
   },
   "outputs": [
    {
     "name": "stdout",
     "output_type": "stream",
     "text": [
      "\n",
      " Classification report for classifier OneVsRestClassifier(estimator=KNeighborsClassifier(algorithm='auto',\n",
      "                                                   leaf_size=30,\n",
      "                                                   metric='minkowski',\n",
      "                                                   metric_params=None,\n",
      "                                                   n_jobs=None, n_neighbors=5,\n",
      "                                                   p=2, weights='uniform'),\n",
      "                    n_jobs=None):\n",
      "              precision    recall  f1-score   support\n",
      "\n",
      "           0       1.00      1.00      1.00         4\n",
      "           1       1.00      1.00      1.00         7\n",
      "           2       0.75      0.60      0.67         5\n",
      "           3       1.00      1.00      1.00         8\n",
      "           4       1.00      1.00      1.00         6\n",
      "           5       1.00      1.00      1.00         5\n",
      "           6       0.89      1.00      0.94         8\n",
      "           7       1.00      0.86      0.92         7\n",
      "           8       1.00      0.91      0.95        11\n",
      "           9       1.00      1.00      1.00         5\n",
      "          10       1.00      1.00      1.00         8\n",
      "          11       0.86      1.00      0.92         6\n",
      "          12       1.00      1.00      1.00         9\n",
      "          13       1.00      1.00      1.00         8\n",
      "          14       1.00      1.00      1.00         6\n",
      "          15       1.00      1.00      1.00        17\n",
      "          16       1.00      1.00      1.00         8\n",
      "          17       1.00      1.00      1.00         5\n",
      "          18       1.00      1.00      1.00         8\n",
      "          19       1.00      1.00      1.00         6\n",
      "          20       1.00      1.00      1.00        10\n",
      "          21       1.00      1.00      1.00         5\n",
      "          22       1.00      1.00      1.00         8\n",
      "          23       0.93      1.00      0.97        14\n",
      "          24       1.00      1.00      1.00         9\n",
      "\n",
      "    accuracy                           0.98       193\n",
      "   macro avg       0.98      0.97      0.97       193\n",
      "weighted avg       0.98      0.98      0.98       193\n",
      "\n",
      "\n"
     ]
    }
   ],
   "source": [
    "print(\"\\n Classification report for classifier %s:\\n%s\\n\" % (clf, metrics.classification_report(y_test, prediction)))"
   ]
  },
  {
   "cell_type": "code",
   "execution_count": 21,
   "metadata": {},
   "outputs": [],
   "source": [
    "import pickle\n",
    "filename = 'cv_evaluation.sav'\n",
    "pickle.dump(clf, open(filename, 'wb'))"
   ]
  },
  {
   "cell_type": "code",
   "execution_count": 21,
   "metadata": {},
   "outputs": [],
   "source": [
    "ramez_cv=\"\"\"Ramez Noshy\n",
    "Weissa\n",
    "Contact\n",
    "Address:\n",
    "Heliopolis, Cairo, Egypt\n",
    "Phone:\n",
    "+20 127 418 2056\n",
    "Email:\n",
    "rameznoshy@gmail.com\n",
    "GitHub:\n",
    "https://github.com/rameziophobia\n",
    "LinkedIn:\n",
    "https://linkedin.com/in/ramez-noshy/\n",
    "Programming\n",
    "React/React native C++, C\n",
    "Python Node.js/Express\n",
    "Java, C# Flask, NestJs\n",
    "SQL/NoSQL Redis\n",
    "JavaScript/TS HTML, CSS\n",
    "Skill Highlights\n",
    " Qt GUI toolkit\n",
    " Algorithms and Data Structure\n",
    " Software Design Patterns\n",
    " Solid design principles\n",
    "React, Angular frameworks\n",
    "OpenCV - computer vision\n",
    " Linux/Bash\n",
    " Git, GitHub Gitflow\n",
    " UML\n",
    " C++ STL\n",
    " Service-focused, Fast learner\n",
    "Languages\n",
    "Arabic – Native\n",
    "English – Fluent\n",
    "Spanish – Basic fluency\n",
    "French – Basic fluency\n",
    "German – Basic fluency (A1)\n",
    "Education\n",
    "Bachelor of Engineering: Graduated: Mar 2022\n",
    "Computer Engineering and Software Systems\n",
    "Ain Shams University, Cairo, Egypt CGPA: 3.75\n",
    "Courses: Algorithms, Data Structure, OOP, Software Engineering,\n",
    "Android, Computer Networks & Security, Operating Systems,\n",
    "Distributed Computing, Computer Vision, Machine Learning, Agile\n",
    "Experience\n",
    "Company Internship – Microsoft ATLC\n",
    "Software Engineering Intern 7/2021 to 9/2021\n",
    " Finetuned NLU, NLG models\n",
    " Converted models to ONNX (using Pytorch, Python)\n",
    " Evaluated ONNX conversion results, performance\n",
    " Refactored ONNX conversion script to easily support\n",
    "conversion of new models\n",
    "Company Internship – ISEC Cybersecurity\n",
    "Backend Java/Node.js cybersecurity intern 10/2020 to 11/2020\n",
    " Refactored and redesigned a six-year-old legacy Java secure\n",
    "archiving system by applying clean code design principles\n",
    " Designed an Ethereum blockchain layer in a MEAN stack app.\n",
    "ASU Racing Team – Mate ROV Team\n",
    "Software Member 09/2019 to 04/2020\n",
    " Wrote computer vision python scripts for autonomous ROV\n",
    "underwater motion using OpenCV and Python\n",
    " Streamed video feed from ROV using gstreamer framework\n",
    " Designed a GUI interface using Qt C++\n",
    "Used ROS for QT – Raspberry PI communication\n",
    "Student Activity Volunteer – APEC\n",
    " IT Member – PHP, MySQL 09/2020 to 6/2021\n",
    "Projects\n",
    " Graduation Project - Educate platform Jan-2022\n",
    " Implemented several screens using react native, redux, and\n",
    "react query. Implemented uploading post materials to S3\n",
    "(images, videos, PDFs), supports editing.\n",
    " Designed the CRUD Restful API for the backend – NestJS.\n",
    " Designed and implemented a scalable personalized feed\n",
    "generation system using Queues, Redis, NestJS.\n",
    " TSP Optimization and Visualization Jun-2020\n",
    "Used Python to solve and visualize the Travelling salesman\n",
    "problem using the following algorithms: Genetic Algorithm,\n",
    "PSO: Particle Swarm Optimization, Dynamic Programming,\n",
    "Simulated Annealing, Greedy, Divide and Conquer\n",
    "\n",
    "Projects\n",
    " Master Quiz Website OCT-2020\n",
    " Handled the backend using Node.js/MongoDB\n",
    " Designed and implemented Interactive group quiz sessions using sockets and Node.js (backend)\n",
    "and Angular (frontend)\n",
    " CTV Mobile Application (freelance project) Mar-2021\n",
    " Built the profile, posts wall, news screen using React Native\n",
    " Set the organization and planning for the project collaboration\n",
    " Rosavicci Ecommerce Website (freelance project) Mar-2021\n",
    " Built shopping screen, cart screens using React.js and Next.js\n",
    " Shoot 'em up Game - Skull Reign 2019\n",
    " Top-down shooter game written in pure Java\n",
    " Implemented player, enemy and projectile logic\n",
    " YoutTube trailer\n",
    " Top video creator May-2020\n",
    " Wrote scripts that automate generating top 100 lists, scraps their data, and makes a video compilation\n",
    "for youtube using beautifulSoup4, MoviePY – Python\n",
    " Reduced the time taken to make a video from days of manual work to 2 hours\n",
    " Book Spine Classifier May-2020\n",
    "By referencing scientific papers, using OpenCV and Tesseract OCR implemented an OCR engine to detect\n",
    "book covers and read their names, a flutter application that acts as a virtual bookshelf to scan book covers,\n",
    "parse them on a server and send them back to the bookshelf.\n",
    " Auto Battler Networked Game – HexArena 2019\n",
    " 2D two-player battling game written in C#\n",
    " Implemented A-star (A*) search to choose enemy targets\n",
    " Synchronized movements between hosts\n",
    " Other projects\n",
    " Clash Quest Guide App – React Native – 10K+ downloads on the play store 2021\n",
    " Multilevel feedback queue CPU scheduler (used in operating systems) visualisation in Python 2019\n",
    " Network on Chip (NOC) router using VHDL 2020\n",
    " Demo Hotel Chain database system (MySQL) 2020\n",
    " Tiny Scanner & Parser (compiler with GUI using C#) 2020\n",
    " Bubble Sheet Scanner (Optical Mark Recognition using Python and OpenCV) late 2019\n",
    " ICAMP (Arduino RC car; controlled via an android app) 2018\n",
    "Certifications\n",
    "Big Data Master Class – Sprints\n",
    "Machine Learning – Coursera, Stanford University\n",
    "Web Development Advanced – Udacity, EGFWD initiative\n",
    "Web Development Professional – Udacity, EGFWD initiative\n",
    "Build a Modern Computer from First Principles – Coursera, HUJI \"\"\""
   ]
  },
  {
   "cell_type": "code",
   "execution_count": 22,
   "metadata": {},
   "outputs": [],
   "source": [
    "cleaned_ramezcv=cleanResume(ramez_cv)"
   ]
  },
  {
   "cell_type": "code",
   "execution_count": 23,
   "metadata": {},
   "outputs": [
    {
     "name": "stdout",
     "output_type": "stream",
     "text": [
      "Ramez Noshy Weissa Contact Address Heliopolis Cairo Egypt Phone 20 127 418 2056 Email rameznoshy GitHub LinkedIn Programming React React native C C Python Node js Express Java C Flask NestJs SQL NoSQL Redis JavaScript TS HTML CSS Skill Highlights Qt GUI toolkit Algorithms and Data Structure Software Design Patterns Solid design principles React Angular frameworks OpenCV computer vision Linux Bash Git GitHub Gitflow UML C STL Service focused Fast learner Languages Arabic Native English Fluent Spanish Basic fluency French Basic fluency German Basic fluency A1 Education Bachelor of Engineering Graduated Mar 2022 Computer Engineering and Software Systems Ain Shams University Cairo Egypt CGPA 3 75 Courses Algorithms Data Structure OOP Software Engineering Android Computer Networks Security Operating Systems Distributed Computing Computer Vision Machine Learning Agile Experience Company Internship Microsoft ATLC Software Engineering Intern 7 2021 to 9 2021 Finetuned NLU NLG models Converted models to ONNX using Pytorch Python Evaluated ONNX conversion results performance Refactored ONNX conversion script to easily support conversion of new models Company Internship ISEC Cybersecurity Backend Java Node js cybersecurity intern 10 2020 to 11 2020 Refactored and redesigned a six year old legacy Java secure archiving system by applying clean code design principles Designed an Ethereum blockchain layer in a MEAN stack app ASU Racing Team Mate ROV Team Software Member 09 2019 to 04 2020 Wrote computer vision python scripts for autonomous ROV underwater motion using OpenCV and Python Streamed video feed from ROV using gstreamer framework Designed a GUI interface using Qt C Used ROS for QT Raspberry PI communication Student Activity Volunteer APEC IT Member PHP MySQL 09 2020 to 6 2021 Projects Graduation Project Educate platform Jan 2022 Implemented several screens using react native redux and react query Implemented uploading post materials to S3 images videos PDFs supports editing Designed the CRUD Restful API for the backend NestJS Designed and implemented a scalable personalized feed generation system using Queues Redis NestJS TSP Optimization and Visualization Jun 2020 Used Python to solve and visualize the Travelling salesman problem using the following algorithms Genetic Algorithm PSO Particle Swarm Optimization Dynamic Programming Simulated Annealing Greedy Divide and Conquer Projects Master Quiz Website OCT 2020 Handled the backend using Node js MongoDB Designed and implemented Interactive group quiz sessions using sockets and Node js backend and Angular frontend CTV Mobile Application freelance project Mar 2021 Built the profile posts wall news screen using React Native Set the organization and planning for the project collaboration Rosavi i Ecommerce Website freelance project Mar 2021 Built shopping screen cart screens using React js and Next js Shoot em up Game Skull Reign 2019 Top down shooter game written in pure Java Implemented player enemy and projectile logic YoutTube trailer Top video creator May 2020 Wrote scripts that automate generating top 100 lists scraps their data and makes a video compilation for youtube using beautifulSoup4 MoviePY Python Reduced the time taken to make a video from days of manual work to 2 hours Book Spine Classifier May 2020 By referencing scientific papers using OpenCV and Tesseract OCR implemented an OCR engine to detect book covers and read their names a flutter application that acts as a virtual bookshelf to scan book covers parse them on a server and send them back to the bookshelf Auto Battler Networked Game HexArena 2019 2D two player battling game written in C Implemented A star A search to choose enemy targets Synchronized movements between hosts Other projects Clash Quest Guide App React Native 10K downloads on the play store 2021 Multilevel feedback queue CPU scheduler used in operating systems visualisation in Python 2019 Network on Chip NOC router using VHDL 2020 Demo Hotel Chain database system MySQL 2020 Tiny Scanner Parser compiler with GUI using C 2020 Bubble Sheet Scanner Optical Mark Recognition using Python and OpenCV late 2019 ICAMP Arduino RC car controlled via an android app 2018 Certifications Big Data Master Class Sprints Machine Learning Coursera Stanford University Web Development Advanced Udacity EGFWD initiative Web Development Professional Udacity EGFWD initiative Build a Modern Computer from First Principles Coursera HUJI \n"
     ]
    }
   ],
   "source": [
    "print(cleaned_ramezcv)"
   ]
  },
  {
   "cell_type": "code",
   "execution_count": 28,
   "metadata": {},
   "outputs": [
    {
     "ename": "ValueError",
     "evalue": "Iterable over raw text documents expected, string object received.",
     "output_type": "error",
     "traceback": [
      "\u001b[1;31m---------------------------------------------------------------------------\u001b[0m",
      "\u001b[1;31mValueError\u001b[0m                                Traceback (most recent call last)",
      "\u001b[1;32m<ipython-input-28-3001993d3d73>\u001b[0m in \u001b[0;36m<module>\u001b[1;34m\u001b[0m\n\u001b[0;32m      1\u001b[0m \u001b[0mcleaned_ramezcv\u001b[0m\u001b[1;33m=\u001b[0m\u001b[1;33m[\u001b[0m\u001b[0mcleaned_ramezcv\u001b[0m\u001b[1;33m]\u001b[0m\u001b[1;33m\u001b[0m\u001b[1;33m\u001b[0m\u001b[0m\n\u001b[1;32m----> 2\u001b[1;33m \u001b[0mWordFeatures\u001b[0m \u001b[1;33m=\u001b[0m \u001b[0mword_vectorizer\u001b[0m\u001b[1;33m.\u001b[0m\u001b[0mtransform\u001b[0m\u001b[1;33m(\u001b[0m\u001b[1;34m'cleaned_ramezcv'\u001b[0m\u001b[1;33m)\u001b[0m\u001b[1;33m\u001b[0m\u001b[1;33m\u001b[0m\u001b[0m\n\u001b[0m",
      "\u001b[1;32m~\\Anaconda3\\lib\\site-packages\\sklearn\\feature_extraction\\text.py\u001b[0m in \u001b[0;36mtransform\u001b[1;34m(self, raw_documents, copy)\u001b[0m\n\u001b[0;32m   1678\u001b[0m         \u001b[0mcheck_is_fitted\u001b[0m\u001b[1;33m(\u001b[0m\u001b[0mself\u001b[0m\u001b[1;33m,\u001b[0m \u001b[1;34m'_tfidf'\u001b[0m\u001b[1;33m,\u001b[0m \u001b[1;34m'The tfidf vector is not fitted'\u001b[0m\u001b[1;33m)\u001b[0m\u001b[1;33m\u001b[0m\u001b[1;33m\u001b[0m\u001b[0m\n\u001b[0;32m   1679\u001b[0m \u001b[1;33m\u001b[0m\u001b[0m\n\u001b[1;32m-> 1680\u001b[1;33m         \u001b[0mX\u001b[0m \u001b[1;33m=\u001b[0m \u001b[0msuper\u001b[0m\u001b[1;33m(\u001b[0m\u001b[1;33m)\u001b[0m\u001b[1;33m.\u001b[0m\u001b[0mtransform\u001b[0m\u001b[1;33m(\u001b[0m\u001b[0mraw_documents\u001b[0m\u001b[1;33m)\u001b[0m\u001b[1;33m\u001b[0m\u001b[1;33m\u001b[0m\u001b[0m\n\u001b[0m\u001b[0;32m   1681\u001b[0m         \u001b[1;32mreturn\u001b[0m \u001b[0mself\u001b[0m\u001b[1;33m.\u001b[0m\u001b[0m_tfidf\u001b[0m\u001b[1;33m.\u001b[0m\u001b[0mtransform\u001b[0m\u001b[1;33m(\u001b[0m\u001b[0mX\u001b[0m\u001b[1;33m,\u001b[0m \u001b[0mcopy\u001b[0m\u001b[1;33m=\u001b[0m\u001b[1;32mFalse\u001b[0m\u001b[1;33m)\u001b[0m\u001b[1;33m\u001b[0m\u001b[1;33m\u001b[0m\u001b[0m\n\u001b[0;32m   1682\u001b[0m \u001b[1;33m\u001b[0m\u001b[0m\n",
      "\u001b[1;32m~\\Anaconda3\\lib\\site-packages\\sklearn\\feature_extraction\\text.py\u001b[0m in \u001b[0;36mtransform\u001b[1;34m(self, raw_documents)\u001b[0m\n\u001b[0;32m   1101\u001b[0m         \u001b[1;32mif\u001b[0m \u001b[0misinstance\u001b[0m\u001b[1;33m(\u001b[0m\u001b[0mraw_documents\u001b[0m\u001b[1;33m,\u001b[0m \u001b[0mstr\u001b[0m\u001b[1;33m)\u001b[0m\u001b[1;33m:\u001b[0m\u001b[1;33m\u001b[0m\u001b[1;33m\u001b[0m\u001b[0m\n\u001b[0;32m   1102\u001b[0m             raise ValueError(\n\u001b[1;32m-> 1103\u001b[1;33m                 \u001b[1;34m\"Iterable over raw text documents expected, \"\u001b[0m\u001b[1;33m\u001b[0m\u001b[1;33m\u001b[0m\u001b[0m\n\u001b[0m\u001b[0;32m   1104\u001b[0m                 \"string object received.\")\n\u001b[0;32m   1105\u001b[0m \u001b[1;33m\u001b[0m\u001b[0m\n",
      "\u001b[1;31mValueError\u001b[0m: Iterable over raw text documents expected, string object received."
     ]
    }
   ],
   "source": [
    "cleaned_ramezcv=[cleaned_ramezcv]\n",
    "WordFeatures = word_vectorizer.transform('cleaned_ramezcv')"
   ]
  },
  {
   "cell_type": "code",
   "execution_count": 30,
   "metadata": {},
   "outputs": [],
   "source": [
    "pickle.dump(word_vectorizer, open(\"tfidf.sav\", \"wb\"))"
   ]
  },
  {
   "cell_type": "code",
   "execution_count": null,
   "metadata": {},
   "outputs": [],
   "source": []
  }
 ],
 "metadata": {
  "kernelspec": {
   "display_name": "Python 3",
   "language": "python",
   "name": "python3"
  },
  "language_info": {
   "codemirror_mode": {
    "name": "ipython",
    "version": 3
   },
   "file_extension": ".py",
   "mimetype": "text/x-python",
   "name": "python",
   "nbconvert_exporter": "python",
   "pygments_lexer": "ipython3",
   "version": "3.7.4"
  },
  "papermill": {
   "default_parameters": {},
   "duration": 21.516454,
   "end_time": "2021-12-05T18:29:55.411797",
   "environment_variables": {},
   "exception": null,
   "input_path": "__notebook__.ipynb",
   "output_path": "__notebook__.ipynb",
   "parameters": {},
   "start_time": "2021-12-05T18:29:33.895343",
   "version": "2.2.2"
  }
 },
 "nbformat": 4,
 "nbformat_minor": 4
}
